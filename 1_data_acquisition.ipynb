{
 "cells": [
  {
   "cell_type": "code",
   "execution_count": 1,
   "metadata": {},
   "outputs": [],
   "source": [
    "import pandas as pd\n",
    "import spotipy\n",
    "import spotipy.util as util\n",
    "from spotipy.oauth2 import SpotifyClientCredentials #access authorized Spotify data"
   ]
  },
  {
   "cell_type": "code",
   "execution_count": null,
   "metadata": {},
   "outputs": [],
   "source": [
    "client_id = ## enter here ##\n",
    "client_secret = ## enter here ##"
   ]
  },
  {
   "cell_type": "code",
   "execution_count": null,
   "metadata": {},
   "outputs": [],
   "source": [
    "client_credentials_manager = SpotifyClientCredentials(client_id=client_id, client_secret=client_secret)\n",
    "sp = spotipy.Spotify(client_credentials_manager=client_credentials_manager)"
   ]
  },
  {
   "cell_type": "code",
   "execution_count": null,
   "metadata": {},
   "outputs": [],
   "source": [
    "# a uri code is the unique identifier of a spotify playlist, song, artist, etc."
   ]
  },
  {
   "cell_type": "code",
   "execution_count": null,
   "metadata": {},
   "outputs": [],
   "source": [
    "# takes in playlist uri and resturns uri of tracks\n",
    "def getTrackIDs(user, playlist_uri):\n",
    "    ids = []\n",
    "    \n",
    "    playlist = sp.user_playlist(user, playlist_uri)\n",
    "    \n",
    "    for item in playlist['tracks']['items']:\n",
    "        track = item['track']\n",
    "        ids.append(track['id'])\n",
    "    \n",
    "    return ids"
   ]
  },
  {
   "cell_type": "code",
   "execution_count": null,
   "metadata": {},
   "outputs": [],
   "source": [
    "# takes in a song uri and returns dictionary of info\n",
    "def getTrackInfo(uri, country):\n",
    "    id_dic = {}\n",
    "    \n",
    "    info = sp.track(uri)\n",
    "    \n",
    "    id_dic['country'] = country\n",
    "    id_dic['uri'] = uri\n",
    "    id_dic['track'] = info['name']\n",
    "    id_dic['artist_1'] = info['artists'][0]['name']\n",
    "    if len(info['artists'])>1:\n",
    "        id_dic['artist_featured'] = info['artists'][1]['name']\n",
    "    id_dic['album'] = info['album']['name']\n",
    "    id_dic['release_date'] = info['album']['release_date']\n",
    "    id_dic['popularity'] = info['popularity']\n",
    "    id_dic['duration_ms'] = info['duration_ms']\n",
    "    id_dic['explicit'] = info['explicit']\n",
    "    \n",
    "    return id_dic"
   ]
  },
  {
   "cell_type": "code",
   "execution_count": null,
   "metadata": {},
   "outputs": [],
   "source": [
    "# takes in a country and it's chart uri code\n",
    "# returns a dictionary of song uris and respective song rank on chart\n",
    "def matchChartsInfo(chart_uri, country):\n",
    "    chart_track_uris = getTrackIDs('spotifycharts', chart_uri)\n",
    "    chart_complete = {}\n",
    "    counter = 0\n",
    "    for chart_track_uri in chart_track_uris:\n",
    "        chart_track_dic = getTrackInfo(chart_track_uri, country)\n",
    "        chart_complete[counter+1] = chart_track_dic\n",
    "        counter+=1\n",
    "\n",
    "    return chart_complete"
   ]
  },
  {
   "cell_type": "code",
   "execution_count": null,
   "metadata": {},
   "outputs": [],
   "source": [
    "# dictionary of countries and their respective top charts uri code\n",
    "# collected manually from spotify desktop client\n",
    "country_chart_uris = {}\n",
    "country_chart_uris['Argentina'] = '37i9dQZEVXbMMy2roB9myp'\n",
    "country_chart_uris['Australia'] = '37i9dQZEVXbJPcfkRz0wJ0'\n",
    "country_chart_uris['Austria'] = '37i9dQZEVXbKNHh6NIXu36'\n",
    "country_chart_uris['Belgium'] = '37i9dQZEVXbJNSeeHswcKB'\n",
    "country_chart_uris['Bolivia'] = '37i9dQZEVXbJqfMFK4d691'\n",
    "country_chart_uris['Brazil'] = '37i9dQZEVXbMXbN3EUUhlg'\n",
    "country_chart_uris['Bulgaria'] = '37i9dQZEVXbNfM2w2mq1B8'\n",
    "country_chart_uris['Canada'] = '37i9dQZEVXbKj23U1GF4IR'\n",
    "country_chart_uris['Chile'] = '37i9dQZEVXbL0GavIqMTeb'\n",
    "country_chart_uris['Colombia'] = '37i9dQZEVXbOa2lmxNORXQ'\n",
    "country_chart_uris['Costa Rica'] = '37i9dQZEVXbMZAjGMynsQX'\n",
    "country_chart_uris['Czech Republic'] = '37i9dQZEVXbIP3c3fqVrJY'\n",
    "country_chart_uris['Denmark'] = '37i9dQZEVXbL3J0k32lWnN'\n",
    "country_chart_uris['Dominican Republic'] = '37i9dQZEVXbKAbrMR8uuf7'\n",
    "country_chart_uris['Ecuador'] = '37i9dQZEVXbJlM6nvL1nD1'\n",
    "country_chart_uris['El Salvador'] = '37i9dQZEVXbLxoIml4MYkT'\n",
    "country_chart_uris['Estonia'] = '37i9dQZEVXbLesry2Qw2xS'\n",
    "country_chart_uris['Finland'] = '37i9dQZEVXbMxcczTSoGwZ'\n",
    "country_chart_uris['France'] = '37i9dQZEVXbIPWwFssbupI'\n",
    "country_chart_uris['Germany'] = '37i9dQZEVXbJiZcmkrIHGU'\n",
    "country_chart_uris['Greece'] = '37i9dQZEVXbJqdarpmTJDL'\n",
    "country_chart_uris['Guatemala'] = '37i9dQZEVXbLy5tBFyQvd4'\n",
    "country_chart_uris['Honduras'] = '37i9dQZEVXbJp9wcIM9Eo5'\n",
    "country_chart_uris['Hong Kong'] = '37i9dQZEVXbLwpL8TjsxOG'\n",
    "country_chart_uris['Hungary'] = '37i9dQZEVXbNHwMxAkvmF8'\n",
    "country_chart_uris['Iceland'] = '37i9dQZEVXbKMzVsSGQ49S'\n",
    "country_chart_uris['India'] = '37i9dQZEVXbLZ52XmnySJg'\n",
    "country_chart_uris['Indonesia'] = '37i9dQZEVXbObFQZ3JLcXt'\n",
    "country_chart_uris['Ireland'] = '37i9dQZEVXbKM896FDX8L1'\n",
    "country_chart_uris['Israel'] = '37i9dQZEVXbJ6IpvItkve3'\n",
    "country_chart_uris['Italy'] = '37i9dQZEVXbIQnj7RRhdSX'\n",
    "country_chart_uris['Japan'] = '37i9dQZEVXbKXQ4mDTEBXq'\n",
    "country_chart_uris['Latvia'] = '37i9dQZEVXbJWuzDrTxbKS'\n",
    "country_chart_uris['Lithuania'] = '37i9dQZEVXbMx56Rdq5lwc'\n",
    "country_chart_uris['Luxembourg'] = '37i9dQZEVXbKGcyg6TFGx6'\n",
    "country_chart_uris['Malaysia'] = '37i9dQZEVXbJlfUljuZExa'\n",
    "country_chart_uris['Malta'] = '37i9dQZEVXbMD2H5HJqmx9'\n",
    "country_chart_uris['Mexico'] = '37i9dQZEVXbO3qyFxbkOE1'\n",
    "country_chart_uris['Netherlands'] = '37i9dQZEVXbKCF6dqVpDkS'\n",
    "country_chart_uris['New Zealand'] = '37i9dQZEVXbM8SIrkERIYl'\n",
    "country_chart_uris['Nicaragua'] = '37i9dQZEVXbISk8kxnzfCq'\n",
    "country_chart_uris['Norway'] = '37i9dQZEVXbJvfa0Yxg7E7'\n",
    "country_chart_uris['Panama'] = '37i9dQZEVXbKypXHVwk1f0'\n",
    "country_chart_uris['Paraguay'] = '37i9dQZEVXbNOUPGj7tW6T'\n",
    "country_chart_uris['Peru'] = '37i9dQZEVXbJfdy5b0KP7W'\n",
    "country_chart_uris['Philippines'] = '37i9dQZEVXbNBz9cRCSFkY'\n",
    "country_chart_uris['Poland'] = '37i9dQZEVXbN6itCcaL3Tt'\n",
    "country_chart_uris['Portugal'] = '37i9dQZEVXbKyJS56d1pgi'\n",
    "country_chart_uris['Romania'] = '37i9dQZEVXbNZbJ6TZelCq'\n",
    "country_chart_uris['Singapore'] = '37i9dQZEVXbK4gjvS1FjPY'\n",
    "country_chart_uris['Slovakia'] = '37i9dQZEVXbKIVTPX9a2Sb'\n",
    "country_chart_uris['South Africa'] = '37i9dQZEVXbMH2jvi6jvjk'\n",
    "country_chart_uris['Spain'] = '37i9dQZEVXbNFJfN1Vw8d9'\n",
    "country_chart_uris['Sweden'] = '37i9dQZEVXbLoATJ81JYXz'\n",
    "country_chart_uris['Switzerland'] = '37i9dQZEVXbJiyhoAPEfMK'\n",
    "country_chart_uris['Taiwan'] = '37i9dQZEVXbMnZEatlMSiu'\n",
    "country_chart_uris['Thailand'] = '37i9dQZEVXbMnz8KIWsvf9'\n",
    "country_chart_uris['Turkey'] = '37i9dQZEVXbIVYVBNw9D5K'\n",
    "country_chart_uris['United Kingdom'] = '37i9dQZEVXbLnolsZ8PSNw'\n",
    "country_chart_uris['United States'] = '37i9dQZEVXbLRQDuF5jeBp'\n",
    "country_chart_uris['Uruguay'] = '37i9dQZEVXbMJJi3wgRbAy'\n",
    "country_chart_uris['Vietnam'] = '37i9dQZEVXbLdGSmz6xilI'"
   ]
  },
  {
   "cell_type": "code",
   "execution_count": null,
   "metadata": {},
   "outputs": [],
   "source": [
    "# returns a dataframe of top 50 songs and song characteristics for a country\n",
    "to_append = []\n",
    "for country in country_chart_uris:\n",
    "    us = matchChartsInfo(country_chart_uris[country], country)\n",
    "    df = pd.DataFrame.from_dict(us, orient = 'index')\n",
    "    to_append.append(df)\n",
    "    print(country, \"completed\")"
   ]
  },
  {
   "cell_type": "code",
   "execution_count": null,
   "metadata": {},
   "outputs": [],
   "source": [
    "#concatenates country dataframes into a master dataframe\n",
    "appended_data = pd.concat(to_append)\n",
    "pd.set_option('display.max_rows', 500)\n",
    "appended_data.to_csv('### File Path ###')\n",
    "appended_data"
   ]
  },
  {
   "cell_type": "code",
   "execution_count": null,
   "metadata": {},
   "outputs": [],
   "source": []
  }
 ],
 "metadata": {
  "kernelspec": {
   "display_name": "Python 3",
   "language": "python",
   "name": "python3"
  },
  "language_info": {
   "codemirror_mode": {
    "name": "ipython",
    "version": 3
   },
   "file_extension": ".py",
   "mimetype": "text/x-python",
   "name": "python",
   "nbconvert_exporter": "python",
   "pygments_lexer": "ipython3",
   "version": "3.7.6"
  }
 },
 "nbformat": 4,
 "nbformat_minor": 4
}
