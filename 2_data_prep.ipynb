{
 "cells": [
  {
   "cell_type": "code",
   "execution_count": 1,
   "metadata": {},
   "outputs": [],
   "source": [
    "import pandas as pd"
   ]
  },
  {
   "cell_type": "code",
   "execution_count": 2,
   "metadata": {},
   "outputs": [],
   "source": [
    "charts = pd.read_csv('### File Path ###')"
   ]
  },
  {
   "cell_type": "code",
   "execution_count": null,
   "metadata": {},
   "outputs": [],
   "source": [
    "charts = charts.rename(columns={\"Unnamed: 0\": \"rank\"})"
   ]
  },
  {
   "cell_type": "code",
   "execution_count": null,
   "metadata": {},
   "outputs": [],
   "source": [
    "# adding value counts column to show frequency of each song's occurances\n",
    "uri_occurances = charts['uri'].value_counts()\n",
    "uri_occurances_dic = uri_occurances.to_dict()\n",
    "charts['occurances'] = charts['uri'].map(uri_occurances_dic) "
   ]
  },
  {
   "cell_type": "code",
   "execution_count": null,
   "metadata": {},
   "outputs": [],
   "source": [
    "# subsetting down to only the relevent data for this social network graph\n",
    "charts = charts[['country', 'uri']]"
   ]
  },
  {
   "cell_type": "markdown",
   "metadata": {},
   "source": [
    "# Creating a nodes list (for social network analysis)"
   ]
  },
  {
   "cell_type": "code",
   "execution_count": null,
   "metadata": {},
   "outputs": [],
   "source": [
    "country_names = charts.country.unique()"
   ]
  },
  {
   "cell_type": "code",
   "execution_count": 8,
   "metadata": {},
   "outputs": [
    {
     "ename": "NameError",
     "evalue": "name 'country_names' is not defined",
     "output_type": "error",
     "traceback": [
      "\u001b[0;31m---------------------------------------------------------------------------\u001b[0m",
      "\u001b[0;31mNameError\u001b[0m                                 Traceback (most recent call last)",
      "\u001b[0;32m<ipython-input-8-6965a82001dd>\u001b[0m in \u001b[0;36m<module>\u001b[0;34m\u001b[0m\n\u001b[1;32m      1\u001b[0m \u001b[0;31m#creating df\u001b[0m\u001b[0;34m\u001b[0m\u001b[0;34m\u001b[0m\u001b[0;34m\u001b[0m\u001b[0m\n\u001b[0;32m----> 2\u001b[0;31m \u001b[0mnodes\u001b[0m \u001b[0;34m=\u001b[0m \u001b[0mpd\u001b[0m\u001b[0;34m.\u001b[0m\u001b[0mDataFrame\u001b[0m\u001b[0;34m(\u001b[0m\u001b[0mcountry_names\u001b[0m\u001b[0;34m)\u001b[0m\u001b[0;34m\u001b[0m\u001b[0;34m\u001b[0m\u001b[0m\n\u001b[0m\u001b[1;32m      3\u001b[0m \u001b[0;31m#adding id column\u001b[0m\u001b[0;34m\u001b[0m\u001b[0;34m\u001b[0m\u001b[0;34m\u001b[0m\u001b[0m\n\u001b[1;32m      4\u001b[0m \u001b[0mnodes\u001b[0m\u001b[0;34m.\u001b[0m\u001b[0minsert\u001b[0m\u001b[0;34m(\u001b[0m\u001b[0;36m0\u001b[0m\u001b[0;34m,\u001b[0m \u001b[0;34m'country_id'\u001b[0m\u001b[0;34m,\u001b[0m \u001b[0mrange\u001b[0m\u001b[0;34m(\u001b[0m\u001b[0;36m1\u001b[0m\u001b[0;34m,\u001b[0m \u001b[0;36m1\u001b[0m \u001b[0;34m+\u001b[0m \u001b[0mlen\u001b[0m\u001b[0;34m(\u001b[0m\u001b[0mnodes\u001b[0m\u001b[0;34m)\u001b[0m\u001b[0;34m)\u001b[0m\u001b[0;34m)\u001b[0m\u001b[0;34m\u001b[0m\u001b[0;34m\u001b[0m\u001b[0m\n\u001b[1;32m      5\u001b[0m \u001b[0;31m#renaming columns\u001b[0m\u001b[0;34m\u001b[0m\u001b[0;34m\u001b[0m\u001b[0;34m\u001b[0m\u001b[0m\n",
      "\u001b[0;31mNameError\u001b[0m: name 'country_names' is not defined"
     ]
    }
   ],
   "source": [
    "#creating df\n",
    "nodes = pd.DataFrame(country_names)\n",
    "#adding id column\n",
    "nodes.insert(0, 'country_id', range(1, 1 + len(nodes)))\n",
    "#renaming columns\n",
    "nodes.columns = ['id', 'label']"
   ]
  },
  {
   "cell_type": "code",
   "execution_count": null,
   "metadata": {},
   "outputs": [],
   "source": [
    "nodes.to_csv('### Nodes File Path ###')"
   ]
  },
  {
   "cell_type": "markdown",
   "metadata": {},
   "source": [
    "# Creating an edges list (for social network analysis)"
   ]
  },
  {
   "cell_type": "code",
   "execution_count": null,
   "metadata": {},
   "outputs": [],
   "source": [
    "# joining country ids from nodes list onto edges list\n",
    "inner_join = pd.merge(charts,  \n",
    "                      nodes,  \n",
    "                      on ='country',  \n",
    "                      how ='left')"
   ]
  },
  {
   "cell_type": "code",
   "execution_count": null,
   "metadata": {},
   "outputs": [],
   "source": [
    "# dictionary of country ids and their respective list of uris\n",
    "uris_by_id = {}\n",
    "for id in list(range(1,63)):\n",
    "    country_table = inner_join[inner_join['country_id'] == id]\n",
    "    country_uri_list = list(country_table['uri'])\n",
    "    uris_by_id[id] = country_uri_list"
   ]
  },
  {
   "cell_type": "code",
   "execution_count": null,
   "metadata": {},
   "outputs": [],
   "source": [
    "# appends a tuple (country1, country2) for every song country1 and country2 have in common\n",
    "in_common_list = []\n",
    "for id in uris_by_id: #loops thru every country\n",
    "    for uri in uris_by_id[id]: #loops thru every uri in that country\n",
    "\n",
    "        for key in uris_by_id:   #loops thru other countries\n",
    "            if key == id:         #skips itself\n",
    "                continue\n",
    "            if uri in uris_by_id[key]:     #loops thru uris\n",
    "                in_common_list.append((id,key))\n",
    "                print(uri, id, key)"
   ]
  },
  {
   "cell_type": "code",
   "execution_count": null,
   "metadata": {},
   "outputs": [],
   "source": [
    "# counts the occurances of a particular tuple in tuple list\n",
    "# determines the 'weight' of a particular edge -- proprortional to number of songs country1 and country2 have in common\n",
    "tuple_dic = {}\n",
    "for item in in_common_list:\n",
    "    if item in tuple_dic:\n",
    "        tuple_dic[item] += 1\n",
    "    else:\n",
    "        tuple_dic[item] = 1"
   ]
  },
  {
   "cell_type": "code",
   "execution_count": null,
   "metadata": {},
   "outputs": [],
   "source": [
    "#check for mistakes -- making sure countries don't have more than 50 songs in common\n",
    "for key in tuple_dic:\n",
    "    if tuple_dic[key] > 50:\n",
    "        print(\"oh no, more than 50 songs in common\")"
   ]
  },
  {
   "cell_type": "code",
   "execution_count": null,
   "metadata": {},
   "outputs": [],
   "source": [
    "# create edges dataframe\n",
    "edges = pd.DataFrame.from_dict(tuple_dic, orient = 'index')\n",
    "\n",
    "edges.columns = ['weight']\n",
    "edges['tuple'] = edges.index\n",
    "\n",
    "edges['source'] = edges.apply(lambda x: x[1][0], axis=1)\n",
    "edges['target'] = edges.apply(lambda x: x[1][1], axis=1)\n",
    "edges['type'] = 'Undirected'"
   ]
  },
  {
   "cell_type": "code",
   "execution_count": null,
   "metadata": {},
   "outputs": [],
   "source": [
    "# reorder columns for Gephi\n",
    "edges = edges[['source','target','type','weight']]\n",
    "edges.reset_index()\n",
    "edges.to_csv('### Filepath ###')"
   ]
  },
  {
   "cell_type": "markdown",
   "metadata": {},
   "source": [
    "# next, import node list and edge list into Gephi"
   ]
  },
  {
   "cell_type": "code",
   "execution_count": null,
   "metadata": {},
   "outputs": [],
   "source": [
    "# Gephi settings used:\n",
    "# layout = ForceAtlas\n",
    "# color based on modularity class\n",
    "# text size proportional to degree"
   ]
  }
 ],
 "metadata": {
  "kernelspec": {
   "display_name": "Python 3",
   "language": "python",
   "name": "python3"
  },
  "language_info": {
   "codemirror_mode": {
    "name": "ipython",
    "version": 3
   },
   "file_extension": ".py",
   "mimetype": "text/x-python",
   "name": "python",
   "nbconvert_exporter": "python",
   "pygments_lexer": "ipython3",
   "version": "3.7.6"
  }
 },
 "nbformat": 4,
 "nbformat_minor": 4
}
